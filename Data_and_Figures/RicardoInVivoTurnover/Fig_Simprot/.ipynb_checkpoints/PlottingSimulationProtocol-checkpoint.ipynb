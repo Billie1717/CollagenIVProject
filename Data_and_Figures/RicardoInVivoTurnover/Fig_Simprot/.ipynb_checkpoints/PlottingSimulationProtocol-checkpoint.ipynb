{
 "cells": [
  {
   "cell_type": "code",
   "execution_count": 3,
   "id": "4b3e8736-cabc-495e-b0f6-76a454e1e986",
   "metadata": {
    "tags": []
   },
   "outputs": [
    {
     "name": "stdout",
     "output_type": "stream",
     "text": [
      "The autoreload extension is already loaded. To reload it, use:\n",
      "  %reload_ext autoreload\n"
     ]
    }
   ],
   "source": [
    "%load_ext autoreload\n",
    "%autoreload 2\n",
    "\n",
    "import sys\n",
    "import pandas\n",
    "sys.path.append(\"..\")\n",
    "#import pandas\n",
    "import numpy as np\n",
    "import matplotlib.pyplot as plt\n",
    "import warnings\n",
    "from numpy import random\n",
    "from matplotlib import cm\n",
    "#from matplotlib import norm\n",
    "from matplotlib.colors import TwoSlopeNorm\n",
    "warnings.filterwarnings('ignore')\n",
    "import os\n",
    "\n",
    "#datadir0  = '/nfs/scistore15/saricgrp/bmeadowc/Scratch/Collagen/RiccyProject2/runs_initial_less_dense/'\n",
    "#plotsdir  = '/nfs/scistore15/saricgrp/bmeadowc/Scratch/Collagen/RiccyProject2/Plotting/Plots/'\n",
    "\n",
    "#datadirAlt  = '/Users/billiemeadowcroft/Dropbox/PhDGithub/RemoteCollagenIV/Data_and_Figures/RicardoInVivoTurnover/Fig_MonomerMeasurements/Data/'\n",
    "plotsdir  = '/Users/billiemeadowcroft/Dropbox/PhDGithub/RemoteCollagenIV/Data_and_Figures/RicardoInVivoTurnover/Fig_Simprot/Plots/'\n",
    "\n",
    "import sys\n",
    "\n",
    "# Check the current recursion limit\n",
    "#current_limit = sys.getrecursionlimit()\n",
    "#print(\"Current recursion limit:\", current_limit)\n",
    "\n",
    "# Increase the recursion limit\n",
    "#sys.setrecursionlimit(6000)"
   ]
  },
  {
   "cell_type": "code",
   "execution_count": 4,
   "id": "a806d401-31f2-47f4-b2cd-48ea086d342f",
   "metadata": {},
   "outputs": [],
   "source": [
    "cmap0 = plt.cm.get_cmap('YlOrBr') #YlOrBr\n",
    "clrs1= ['#edf8b1','#7fcdbb','#2c7fb8']\n",
    "clrs2=['#f7fcb9','#addd8e','#31a354']\n",
    "#clrs2= ['#ece2f0','#a6bddb','#1c9099']\n",
    "clrs3 = ['#e7e1ef','#c994c7','#dd1c77']\n",
    "\n",
    "clrs_5 = ['#c7e9b4','#7fcdbb','#41b6c4','#1d91c0','#225ea8','#0c2c84','dimgrey']\n",
    "#clrs_5 = ['#c7e9b4','#7fcdbb','#41b6c4','#2c7fb8','#253494']\n",
    "clrs1= ['grey','#7fcdbb','#2c7fb8']\n",
    "clrs2=['grey','#addd8e','#31a354']\n",
    "#clrs2= ['#ece2f0','#a6bddb','#1c9099']\n",
    "clrs3 = ['grey','#c994c7','#dd1c77']\n",
    "clrs_div = ['#66c2a5','#fc8d62','#8da0cb','#e78ac3','#a6d854','#ffd92f']\n",
    "clrrrs=[clrs1,clrs3,clrs2]"
   ]
  },
  {
   "cell_type": "markdown",
   "id": "15b0c0a7-a14b-4cda-a862-b6e810ea9cb7",
   "metadata": {},
   "source": [
    "## Plotting master protocol - ACTUAL"
   ]
  },
  {
   "cell_type": "code",
   "execution_count": 5,
   "id": "7d038837-803d-4059-a0a7-4422f4e38e44",
   "metadata": {},
   "outputs": [
    {
     "name": "stdout",
     "output_type": "stream",
     "text": [
      "1.6356000000000002\n"
     ]
    },
    {
     "data": {
      "image/png": "[encoded data removed]",
      "text/plain": [
       "<Figure size 576x165.6 with 1 Axes>"
      ]
     },
     "metadata": {
      "needs_background": "light"
     },
     "output_type": "display_data"
    }
   ],
   "source": [
    "fig,ax = plt.subplots(1,figsize = (8,2.3))\n",
    "\n",
    "text1 = 'Equilibrate'\n",
    "text2 = 'Measure\\nmonomer\\nturnover'\n",
    "text3 = 'Apply strain'\n",
    "text4 = 'Initial relax: \\nNo bond \\nremodelling'\n",
    "text5 = 'Add monomers'\n",
    "text6 = 'Full relaxation'\n",
    "\n",
    "timeFactor = 10**6\n",
    "t_Eq = (1509600*0.5)/timeFactor\n",
    "t_MT = (1509600*0.5)/timeFactor +t_Eq\n",
    "endOfEq = 1509600\n",
    "t_strain = ((20000+10000)/timeFactor)+t_MT # ACTUAL ((20000+10000)/timeFactor)+t_MT\n",
    "\n",
    "t_InitRel = 6000*16/timeFactor+t_strain\n",
    "#t_addmons = 1000/timeFactor +t_InitRel\n",
    "t_FulLRel = 200000/timeFactor+t_InitRel\n",
    "\n",
    "\n",
    "times = [0,t_Eq,t_MT,t_strain,t_InitRel,t_FulLRel]\n",
    "strains=[0,0,0,100,100,100]\n",
    "\n",
    "ax.plot(times,strains,linestyle = '-',color = 'black')\n",
    "ax.fill_between([0,t_Eq],[-10,-10],[110,110],alpha = 0.15,color = 'black')\n",
    "ax.fill_between([t_Eq,t_MT],[-10,-10],[110,110],alpha = 0.15,color = 'grey')\n",
    "ax.fill_between([t_MT,t_strain],[-10,-10],[110,110],alpha = 0.15,color = 'black')\n",
    "ax.fill_between([t_strain,t_InitRel],[-10,-10],[110,110],alpha = 0.15,color = 'grey')\n",
    "ax.fill_between([t_InitRel,t_FulLRel],[-10,-10],[110,110],alpha = 0.15,color = 'black')\n",
    "\n",
    "ax.plot([t_MT-0.2,t_MT-0.2],[-10,110],linestyle = ':',color = 'black')\n",
    "ax.plot([0.2,0.2],[-10,110],linestyle = ':',color = 'black')\n",
    "ax.plot([t_InitRel,t_InitRel],[-10,110],linestyle = ':',color = 'black')\n",
    "ax.plot([2.3,2.3],[-10,110],linestyle = ':',color = 'black')\n",
    "#ax.fill_between([t_addmons,t_FulLRel],[-10,-10],[110,110],alpha = 0.15,color = 'grey')\n",
    "\n",
    "ax.text(0.25,40,text1,fontsize = 11)\n",
    "ax.text(t_Eq+0.2,40,text2,color = 'grey',fontsize = 11)\n",
    "ax.text(t_MT+0.01,5,text3,color = 'black',fontsize = 11)\n",
    "ax.text(t_strain+0.2,40,text4,color = 'grey',fontsize = 11)\n",
    "ax.plot([1.61,1.72],[50,50],linestyle = '-',color = 'grey')\n",
    "#ax.text(t_InitRel-0.3,12,text5,color = 'black',fontsize = 11)\n",
    "ax.text(t_InitRel+0.485,40,text6,color = 'black',fontsize = 11)\n",
    "\n",
    "ax.set_ylabel(\"% applied x-y strain\",fontsize =12)\n",
    "ax.set_xlabel('Time [$10^{6}\\Delta t$]',fontsize = 12)\n",
    "ax.set_xlim([-0.1,t_FulLRel+0.1])\n",
    "fig.tight_layout()\n",
    "plotname = 'SimProtocol.pdf'\n",
    "#fig.savefig(plotsdir+plotname)\n",
    "print(t_InitRel)\n",
    "#1639600"
   ]
  },
  {
   "cell_type": "code",
   "execution_count": 6,
   "id": "be586fad-a024-4c1d-aa09-6f7902814880",
   "metadata": {},
   "outputs": [
    {
     "name": "stdout",
     "output_type": "stream",
     "text": [
      "1.6356000000000002\n"
     ]
    }
   ],
   "source": [
    "timeFactor = 10**6\n",
    "t_Eq1 = (1509600*0.5)/timeFactor\n",
    "t_MT1 = (1509600*0.5)/timeFactor +t_Eq1\n",
    "endOfEq1 = 1509600\n",
    "t_strain1 = ((20000+10000)/timeFactor)+t_MT1 # ACTUAL ((20000+10000)/timeFactor)+t_MT\n",
    "t_InitRel1 = 6000*16/timeFactor+t_strain1\n",
    "#t_addmons = 1000/timeFactor +t_InitRel\n",
    "t_FulLRel1 = 200000/timeFactor+t_InitRel1\n",
    "\n",
    "print(t_InitRel1)"
   ]
  },
  {
   "cell_type": "markdown",
   "id": "822160cf-cb4c-4a06-b5ac-8a8e38293950",
   "metadata": {},
   "source": [
    "## Plotting master protocol - SCHEMATIC"
   ]
  },
  {
   "cell_type": "code",
   "execution_count": 8,
   "id": "3fe0f39e-0eac-4637-9f92-e9465c1ca9d1",
   "metadata": {},
   "outputs": [
    {
     "name": "stdout",
     "output_type": "stream",
     "text": [
      "0.7548 1.5096\n",
      "1.9157600000000001\n"
     ]
    },
    {
     "data": {
      "image/png": "[encoded data removed]",
      "text/plain": [
       "<Figure size 576x165.6 with 1 Axes>"
      ]
     },
     "metadata": {
      "needs_background": "light"
     },
     "output_type": "display_data"
    }
   ],
   "source": [
    "fig,ax = plt.subplots(1,figsize = (8,2.3))\n",
    "\n",
    "text1 = 'Equilibrate'\n",
    "text2 = 'Measure\\nmonomer\\nturnover'\n",
    "text3 = 'Apply strain'\n",
    "text4 = 'Initial relax: \\nNo bond \\nremodelling'\n",
    "text5 = 'Add monomers'\n",
    "text6 = 'Full relaxation'\n",
    "\n",
    "timeFactor = 10**6\n",
    "t_Eq = (1509600*0.3)/timeFactor\n",
    "t_MT = (1509600*0.3)/timeFactor +t_Eq\n",
    "endOfEq = 1509600\n",
    "t_strain = ((20000+10000)/timeFactor)+t_MT # ACTUAL ((20000+10000)/timeFactor)+t_MT\n",
    "t_InitRel = 30000*16/timeFactor+t_strain\n",
    "#t_addmons = 1000/timeFactor +t_InitRel\n",
    "t_FulLRel = 500000/timeFactor+t_InitRel\n",
    "\n",
    "\n",
    "times = [0,t_Eq,t_MT,t_strain,t_InitRel,t_FulLRel]\n",
    "strains=[0,0,0,100,100,100]\n",
    "\n",
    "ax.plot(times,strains,linestyle = '-',color = 'black')\n",
    "ax.fill_between([0,t_Eq],[-10,-10],[110,110],alpha = 0.15,color = 'black')\n",
    "ax.fill_between([t_Eq,t_MT],[-10,-10],[110,110],alpha = 0.15,color = 'grey')\n",
    "ax.fill_between([t_MT,t_strain],[-10,-10],[110,110],alpha = 0.15,color = 'black')\n",
    "ax.fill_between([t_strain,t_InitRel],[-10,-10],[110,110],alpha = 0.15,color = 'grey')\n",
    "ax.fill_between([t_InitRel,t_FulLRel],[-10,-10],[110,110],alpha = 0.15,color = 'black')\n",
    "\n",
    "ax.plot([0.1,0.1],[-10,110],linestyle = ':',color = 'black')\n",
    "ax.plot([0.5,0.5],[-10,110],linestyle = ':',color = 'black')\n",
    "ax.plot([t_strain+0.122,t_strain+0.122],[-10,110],linestyle = ':',color = 'black')\n",
    "ax.plot([1.8,1.8],[-10,110],linestyle = ':',color = 'black')\n",
    "#ax.fill_between([t_addmons,t_FulLRel],[-10,-10],[110,110],alpha = 0.15,color = 'grey')\n",
    "\n",
    "ax.text(0.15,40,text1,fontsize = 11)\n",
    "ax.text(t_Eq+0.15,40,text2,color = 'grey',fontsize = 11)\n",
    "ax.text(t_MT+0.01,5,text3,color = 'black',fontsize = 11)\n",
    "ax.text(t_strain+0.14,40,text4,color = 'grey',fontsize = 11)\n",
    "#ax.plot([1.61,1.72],[50,50],linestyle = '-',color = 'grey')\n",
    "#ax.text(t_InitRel-0.3,12,text5,color = 'black',fontsize = 11)\n",
    "ax.text(t_InitRel+0.05,40,text6,color = 'black',fontsize = 11)\n",
    "print(t_Eq1,t_MT1)\n",
    "ax.set_xticks([0,t_Eq,t_MT,t_InitRel,t_FulLRel],[0,np.round(t_Eq1,2),np.round(t_MT1,1),np.round(t_InitRel1,1),np.round(t_FulLRel1,1)])\n",
    "ax.set_ylabel(\"% applied x-y strain\",fontsize =12)\n",
    "ax.set_xlabel('Time [$10^{6}\\Delta t$]',fontsize = 12)\n",
    "ax.set_xlim([-0.02,t_FulLRel+0.02])\n",
    "fig.tight_layout()\n",
    "plotname = 'SimProtocol.pdf'\n",
    "#fig.savefig(plotsdir+plotname)\n",
    "print(t_FulLRel)"
   ]
  },
  {
   "cell_type": "code",
   "execution_count": null,
   "id": "218d9e02-c28d-41b2-978d-1325df93bc72",
   "metadata": {},
   "outputs": [],
   "source": []
  },
  {
   "cell_type": "code",
   "execution_count": null,
   "id": "59cb847f-bedd-4c15-9f72-88ab235caf59",
   "metadata": {},
   "outputs": [],
   "source": []
  },
  {
   "cell_type": "code",
   "execution_count": null,
   "id": "bd7fcfa5-e02f-4724-a4c4-dcfe5cb6ca67",
   "metadata": {},
   "outputs": [],
   "source": []
  }
 ],
 "metadata": {
  "kernelspec": {
   "display_name": "Python 3",
   "language": "python",
   "name": "python3"
  },
  "language_info": {
   "codemirror_mode": {
    "name": "ipython",
    "version": 3
   },
   "file_extension": ".py",
   "mimetype": "text/x-python",
   "name": "python",
   "nbconvert_exporter": "python",
   "pygments_lexer": "ipython3",
   "version": "3.8.5"
  }
 },
 "nbformat": 4,
 "nbformat_minor": 5
}
