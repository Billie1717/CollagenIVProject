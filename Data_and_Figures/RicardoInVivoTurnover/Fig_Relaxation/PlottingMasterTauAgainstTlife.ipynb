{
 "cells": [
  {
   "cell_type": "code",
   "execution_count": 33,
   "id": "4b3e8736-cabc-495e-b0f6-76a454e1e986",
   "metadata": {
    "tags": []
   },
   "outputs": [
    {
     "name": "stdout",
     "output_type": "stream",
     "text": [
      "The autoreload extension is already loaded. To reload it, use:\n",
      "  %reload_ext autoreload\n",
      "Current recursion limit: 6000\n"
     ]
    }
   ],
   "source": [
    "%load_ext autoreload\n",
    "%autoreload 2\n",
    "\n",
    "import sys\n",
    "import pandas\n",
    "sys.path.append(\"..\")\n",
    "#import pandas\n",
    "import numpy as np\n",
    "import matplotlib.pyplot as plt\n",
    "import warnings\n",
    "from numpy import random\n",
    "from matplotlib import cm\n",
    "#from matplotlib import norm\n",
    "from matplotlib.colors import TwoSlopeNorm\n",
    "warnings.filterwarnings('ignore')\n",
    "import os\n",
    "\n",
    "datadir  = '/Users/billiemeadowcroft/Dropbox/PhDGithub/RemoteCollagenIV/Data_and_Figures/RicardoInVivoTurnover/Fig_Relaxation/Data/'\n",
    "datadirAlt  = '/Users/billiemeadowcroft/Dropbox/PhDGithub/RemoteCollagenIV/Data_and_Figures/RicardoInVivoTurnover/Fig_MonomerMeasurements/Data/'\n",
    "plotsdir  = '/Users/billiemeadowcroft/Dropbox/PhDGithub/RemoteCollagenIV/Data_and_Figures/RicardoInVivoTurnover/Fig_Relaxation/Plots/'\n",
    "\n",
    "import sys\n",
    "\n",
    "# Check the current recursion limit\n",
    "current_limit = sys.getrecursionlimit()\n",
    "print(\"Current recursion limit:\", current_limit)\n",
    "\n",
    "# Increase the recursion limit\n",
    "sys.setrecursionlimit(6000)"
   ]
  },
  {
   "cell_type": "code",
   "execution_count": 34,
   "id": "cfe141b0-42ed-48a2-a37b-cbfa50fb2bc8",
   "metadata": {},
   "outputs": [],
   "source": [
    "def phiform(phi0,phi_inf,tau,t):\n",
    "    if tau==0:\n",
    "        phi = phi_inf\n",
    "    else:\n",
    "        phi = (phi0)*np.exp(-t/tau)+phi_inf\n",
    "    return phi\n",
    "\n",
    "def intersection(y,y0):\n",
    "    diff = []\n",
    "    for i in range(len(y)):\n",
    "        #print(i)\n",
    "        diff.append(float((y[i]-y0)*(y[i]-y0)))\n",
    "    diff2 = sorted(diff)\n",
    "    x = diff.index(diff2[0])\n",
    "    return x,diff[x]"
   ]
  },
  {
   "cell_type": "code",
   "execution_count": 35,
   "id": "a806d401-31f2-47f4-b2cd-48ea086d342f",
   "metadata": {},
   "outputs": [],
   "source": [
    "cmap0 = plt.cm.get_cmap('YlOrBr') #YlOrBr\n",
    "clrs1= ['#edf8b1','#7fcdbb','#2c7fb8']\n",
    "clrs2=['#f7fcb9','#addd8e','#31a354']\n",
    "#clrs2= ['#ece2f0','#a6bddb','#1c9099']\n",
    "clrs3 = ['#e7e1ef','#c994c7','#dd1c77']\n",
    "\n",
    "clrs_5 = ['#c7e9b4','#7fcdbb','#41b6c4','#1d91c0','#225ea8','#0c2c84','dimgrey']\n",
    "#clrs_5 = ['#c7e9b4','#7fcdbb','#41b6c4','#2c7fb8','#253494']\n",
    "clrs1= ['grey','#7fcdbb','#2c7fb8']\n",
    "clrs2=['grey','#addd8e','#31a354']\n",
    "#clrs2= ['#ece2f0','#a6bddb','#1c9099']\n",
    "clrs3 = ['grey','#c994c7','#dd1c77']\n",
    "clrs_div = ['#66c2a5','#fc8d62','#8da0cb','#e78ac3','#a6d854','#ffd92f']\n",
    "clrrrs=[clrs1,clrs3,clrs2]\n",
    "\n",
    "#'YlOrBr'\n",
    "ClrsRici = [\"#96a2c1ff\",\"#999ebeff\",\"#a697baff\",\"#b795afff\",\"#c996a8ff\",\"#d398a5ff\"]\n",
    "ClrsRici = [\"#7883acff\",\"#3e387bff\",\"#73457aff\",\"#a66181ff\",\"#b25268ff\",\"#d49995ff\"]\n",
    "ClrsRiciChosen = ClrsRici #[\"#7883acff\",\"#73457aff\",\"#b25268ff\",\"#d49995ff\"]\n",
    "ClrsOrange = [\"#fed98e\",\"#fe9929\",\"#d95f0e\",\"#993404\"]"
   ]
  },
  {
   "cell_type": "code",
   "execution_count": 36,
   "id": "df276125-2592-4c07-a97d-3d5c8921ca11",
   "metadata": {},
   "outputs": [
    {
     "name": "stdout",
     "output_type": "stream",
     "text": [
      "[22.73729083174024, 33.89277957831213, 44.54559159156487, 62.49698463669615, 100.25982355444269, 264.83128160509943]\n"
     ]
    },
    {
     "data": {
      "image/png": "[encoded data removed]",
      "text/plain": [
       "<Figure size 252x187.2 with 1 Axes>"
      ]
     },
     "metadata": {
      "needs_background": "light"
     },
     "output_type": "display_data"
    }
   ],
   "source": [
    "fig2,ax2 = plt.subplots(1,figsize = (3.5,2.6))\n",
    "\n",
    "f=3\n",
    "MP = \"0.12 0.1 0.06 0.03 0.02 0.01\".split() # ORIGINAL RANGE  0.12 0.1 0.06 0.03 0.02 0.01\n",
    "BP = \"0.04 0.03 0.02 0.01 0.007 0.003\".split() # ORIGINAL RANGE 0.04 0.03 0.02 0.01 0.007 0.003\n",
    "seeds= \"1 2 3\".split()\n",
    "BPsV = [0.04,0.03,0.02,0.01,0.007,0.003]\n",
    "AvTmonlife = []\n",
    "StdTmonlife = []\n",
    "AvLargestComps = []\n",
    "for f in range(len(MP)):\n",
    "    IndividualT_MonRelase = []\n",
    "    LargestCompsEnd = []\n",
    "    Tmonlife = []\n",
    "    for s in range(len(seeds)):\n",
    "        RateMons = []\n",
    "        RateMonsRel = []\n",
    "        RateMonsInc = []\n",
    "        #Time NumMons RateMons LargestComp\n",
    "        filename = 'monomerdata_BP'+BP[f]+'_S'+seeds[s]+'.dat'\n",
    "        MonData = pandas.read_csv(datadirAlt+filename, header = 'infer',sep=' ')\n",
    "        Time_ = MonData.Time\n",
    "        NumMons_ = MonData.NumMons\n",
    "        RateMons_ = MonData.RateMons\n",
    "        LargestComp_ = MonData.LargestComp\n",
    "        Time,NumMons,RateMons,LargestComp =Time_.values,NumMons_.values,RateMons_.values,LargestComp_.values\n",
    "        if len(Time)>0:\n",
    "            if Time[-1] >1.4e6:\n",
    "                #for tt in range(len(Time)-1):\n",
    "                #    RateMons.append((NumMons[tt+1]-NumMons[tt])/(Time[tt+1]-Time[tt]))\n",
    "                AvNumMons = np.mean(NumMons[int(len(RateMons)/2):])\n",
    "                NumInNetwork = 6330-AvNumMons\n",
    "                AverageT_MonRelease = np.divide(1,np.mean(np.abs(RateMons[int(len(RateMons)/2):])))\n",
    "                IndividualT_MonRelase.append(np.divide(AverageT_MonRelease * NumInNetwork,10**6))\n",
    "\n",
    "                N=6\n",
    "                rollingRatAv = np.convolve(np.abs(np.ravel(RateMons)), np.ones(N)/N, mode='valid')\n",
    "                timeRol = Time[int(N/2)+1:-int(N/2-1)]\n",
    "                idx = (np.abs(Time - 1509600)).argmin()\n",
    "                LargestCompsEnd.append(LargestComp[idx])\n",
    "                Tmonlife.append(IndividualT_MonRelase)\n",
    "    AvTmonlife.append(np.mean(Tmonlife))\n",
    "    StdTmonlife.append(np.std(Tmonlife))\n",
    "    AvLargestComps.append(np.mean(LargestCompsEnd))\n",
    "    ax2.errorbar(BPsV[f],np.mean(IndividualT_MonRelase),yerr = np.std(IndividualT_MonRelase),capsize = 2,color = clrs_5[f],marker = 'o',markersize = 4) ##Would this by x2??\n",
    "    #ax2.plot(BPsV[f],np.divide(np.mean(IndividualT_MonRelase),10**6),color = clrs_5[f],marker = 'o',markersize = 10) ##Would this by x2??\n",
    "    #print(MP[f],np.mean(IndividualT_MonRelase),np.std(IndividualT_MonRelase))\n",
    "#ax[2].set_ylabel(\"Free monomer lifetime\",fontsize = 12)\n",
    "ax2.set_ylabel(\"Average monomer \\n lifetime\"+r\" $ \\langle T_{\\mathrm{life}}\\rangle$ [$10^6\\Delta t$]\",fontsize = 12)\n",
    "ax2.set_xlabel(\"Bond breaking probabilty, $P_{\\mathrm{break}}$\",fontsize = 12)\n",
    "#ax2.set_yscale('log')\n",
    "#ax2.set_yticks([0,100,200,300],['0','100','200','300'])\n",
    "#ax2.set_ylim([0,350])\n",
    "print(AvTmonlife)\n",
    "fig2.tight_layout()\n",
    "\n",
    "ax2.set_yscale('log')\n",
    "ax2.set_xscale('log')\n",
    "#ax.set_ylim([70,100])\n",
    "plotname = \"EquilibriumMaster.pdf\"\n",
    "#fig.savefig(plotsdir+plotname)\n",
    "\n",
    "plotname2 = \"MonomerExchangeMaster.pdf\"\n",
    "#fig2.savefig(plotsdir+plotname2)\n",
    "##plotname = \"Equilibration_quants.pdf\"\n"
   ]
  },
  {
   "cell_type": "code",
   "execution_count": 37,
   "id": "bec93b7a-78bc-4bae-9641-900470daa623",
   "metadata": {},
   "outputs": [
    {
     "data": {
      "image/png": "[encoded data removed]",
      "text/plain": [
       "<Figure size 309.6x194.4 with 1 Axes>"
      ]
     },
     "metadata": {
      "needs_background": "light"
     },
     "output_type": "display_data"
    }
   ],
   "source": [
    "fig,ax = plt.subplots(1,figsize = (4.3,2.7))\n",
    "\n",
    "\n",
    "xstretches = \"51 76\".split()\n",
    "MPs = \"0.1 0.03 0.01\".split()\n",
    "BPs = \"0.03 0.01 0.003\".split()\n",
    "seeds1 = \"1 2 3\".split()\n",
    "seeds2  = \"1 3\".split()\n",
    "\n",
    "\n",
    "lenT0 = 75922\n",
    "lenT1 = 3272\n",
    "MPs = \"0.12 0.1 0.06 0.03 0.02 0.01\".split()\n",
    "BPs = \"0.04 0.03 0.02 0.01 0.007 0.003\".split()\n",
    "seeds1 = \"1 2 3\".split()\n",
    "seeds2  = \"1 3\".split()\n",
    "\n",
    "\n",
    "timeFactor = 10**6\n",
    "#t_Eq = (1509600*0.5)/timeFactor\n",
    "#t_MT = (1509600*0.5)/timeFactor +t_Eq\n",
    "#endOfEq = 1509600\n",
    "#t_strain = ((20000+10000)/timeFactor)+t_MT\n",
    "#t_InitRel = 10000*10/timeFactor+t_strain\n",
    "#t_addmons = 1000/timeFactor +t_InitRel\n",
    "#t_FulLRel = 1000000/timeFactor+t_InitRel\n",
    "\n",
    "times = [0,t_Eq,t_MT,t_strain,t_InitRel,t_FulLRel]\n",
    "#strains=[0,0,0,100,100,100]\n",
    "UP,LW=-0.15,0.65\n",
    "#ax.plot(times,strains,linestyle = '-',color = 'black')\n",
    "ax.fill_between([0,t_Eq],[LW,LW],[UP,UP],alpha = 0.15,color = 'black')\n",
    "ax.fill_between([t_MT,t_strain],[LW,LW],[UP,UP],alpha = 0.15,color = 'black')\n",
    "ax.fill_between([t_Eq,t_MT],[LW,LW],[UP,UP],alpha = 0.15,color = 'grey')\n",
    "ax.fill_between([t_strain,t_InitRel],[LW,LW],[UP,UP],alpha = 0.15,color = 'grey')\n",
    "ax.fill_between([t_InitRel,t_FulLRel],[LW,LW],[UP,UP],alpha = 0.15,color = 'black')\n",
    "xstretches = \"51 76\".split()\n",
    "x=1\n",
    "#ax.set_ylabel(\"% applied x-y strain\",fontsize =12)\n",
    "ax.set_xlabel('Time [$10^{6}\\Delta t$]',fontsize = 12)\n",
    "#ax.set_xlim([-0.1,t_FulLRel+0.1])\n",
    "#TmonAv = np.divide([64,100,330],10)\n",
    "#22.8555011732714, 33.89276760171024, 44.545528358176234, 62.49702830973359, 100.25979092931783, 264.8313782857122\n",
    "#TmonAv = [2,3,4,6,10,26]\n",
    "#TmonAv = [3,6,26]\n",
    "#Tmonstd = np.divide([3.571501191030219,5.480583457304206,13.19089058082929],10)\n",
    "mrks = [\":\",\"-\",\"--\"]\n",
    "alphs = [0.5,0.5,0.5]\n",
    "Avtaus = []\n",
    "Stdtaus = []\n",
    "\n",
    "x=1\n",
    "Vol1 = 51*51*12\n",
    "Vol2 = (51+int(xstretches[x]))*(51+int(xstretches[x]))*12-Vol1\n",
    "for p in range(len(MPs)):\n",
    "    filename = 'stressdata_BP'+BP[p]+'.dat'\n",
    "    \n",
    "    StressData = pandas.read_csv(datadir+filename, header = 'infer',sep=' ')\n",
    "    Time_ = StressData.Time\n",
    "    stressTotAv_ = StressData.stressAv\n",
    "    stressTotAv,Time = stressTotAv_.values,Time_.values\n",
    "    rollingAvRelax = np.convolve(stressTotAv[lenT0+lenT1:], np.ones(N)/N, mode='valid')\n",
    "    timePostStretch = np.add(Time[lenT0+lenT1:],-Time[lenT0+lenT1])[int(N/2):-int(N/2-1)]\n",
    "    stressPostStretch = rollingAvRelax\n",
    "    \n",
    "    phi_inf = 0\n",
    "    phi0 = stressPostStretch[10]\n",
    "    phiTau = phi0/np.exp(1)\n",
    "    tau = timePostStretch[intersection(stressPostStretch,phiTau)[0]]\n",
    "    phiTheory = []\n",
    "    for tt in range(len(timePostStretch)):\n",
    "        t = timePostStretch[tt]\n",
    "        phiTheory.append(phiform(phi0,phi_inf,tau,t))\n",
    "    \n",
    "    ax.plot(np.divide(Time,timeFactor),stressTotAv,color = ClrsRiciChosen[p],alpha =0.3)\n",
    "    #print(len(stressTotAv))\n",
    "    #ax.plot(np.divide(Time[lenT0+lenT1:],timeFactor),stressTotAv[lenT0+lenT1:],color = 'black',alpha =0.3)\n",
    "    N=50\n",
    "    rollingAv = np.convolve(stressTotAv, np.ones(N)/N, mode='valid')\n",
    "        #rollingAvY = np.convolve(stressY, np.ones(N)/N, mode='valid')\n",
    "    timeAv = Time[int(N/2):-int(N/2-1)]\n",
    "            \n",
    "    ax.plot(np.divide(timeAv,timeFactor),rollingAv,color = ClrsRiciChosen[p],linestyle = '-')\n",
    "    if p==0:\n",
    "        ax.plot(np.divide(np.add(timePostStretch,Time[lenT0+lenT1]),timeFactor),phiTheory,linestyle = ':',color = 'black',label = 'Exponential fit')\n",
    "    else:\n",
    "        ax.plot(np.divide(np.add(timePostStretch,Time[lenT0+lenT1]),timeFactor),phiTheory,linestyle = ':',color = 'black')\n",
    "\n",
    "\n",
    "ax.set_ylabel(r'Stress, $\\sigma_{xx}+\\sigma_{yy}~[k_{\\mathrm{B}}/\\sigma^{3}]$',fontsize = 12)\n",
    "ax.set_xlim([1.2,1.85])\n",
    "ax.set_ylim([-0.12,0.5])\n",
    "ax.legend(frameon=False,loc = [0.01,0.43],fontsize = 9)\n",
    "fig.tight_layout()\n",
    "plotname = \"Stress_relaxation.pdf\"\n",
    "#fig.savefig(plotsdir + plotname)"
   ]
  },
  {
   "cell_type": "code",
   "execution_count": 38,
   "id": "878206cf-8255-4e86-be13-c68f4ccc0b57",
   "metadata": {},
   "outputs": [],
   "source": [
    "#OtherData\n",
    "\n",
    "Avtaus =[14234.0, 17030.666666666668, 21329.333333333332, 38244.666666666664, 48664.666666666664, 150533.33333333334] \n",
    "Stdtaus= [2172.0, 2103.1102892832055, 1442.1413091495422, 4186.233098569113, 5931.628519124313, 10291.6670931174]\n",
    "#TmonAv = [3,6,26]\n",
    "#Tmonstd = np.divide([3.571501191030219,5.480583457304206,13.19089058082929],10)"
   ]
  },
  {
   "cell_type": "markdown",
   "id": "15b0c0a7-a14b-4cda-a862-b6e810ea9cb7",
   "metadata": {},
   "source": [
    "## Plotting master T Vs T plot"
   ]
  },
  {
   "cell_type": "code",
   "execution_count": 39,
   "id": "1ac77a7d-dacb-4048-849b-43fd3057b5ce",
   "metadata": {},
   "outputs": [
    {
     "name": "stdout",
     "output_type": "stream",
     "text": [
      "LC 0.9195892575039495\n",
      "0.7319641916798318\n",
      "LC 0.9404949973670352\n",
      "0.8016499912234509\n",
      "LC 0.9369141653501843\n",
      "0.7897138845006146\n",
      "LC 0.9429173249078463\n",
      "0.8097244163594879\n",
      "LC 0.9592417061611375\n",
      "0.8641390205371251\n",
      "LC 0.9765139547130068\n",
      "0.9217131823766896\n"
     ]
    },
    {
     "data": {
      "image/png": "[encoded data removed]",
      "text/plain": [
       "<Figure size 288x194.4 with 1 Axes>"
      ]
     },
     "metadata": {
      "needs_background": "light"
     },
     "output_type": "display_data"
    },
    {
     "name": "stderr",
     "output_type": "stream",
     "text": [
      "posx and posy should be finite values\n"
     ]
    },
    {
     "data": {
      "image/png": "[encoded data removed]",
      "text/plain": [
       "<Figure size 324x187.2 with 2 Axes>"
      ]
     },
     "metadata": {
      "needs_background": "light"
     },
     "output_type": "display_data"
    }
   ],
   "source": [
    "fig,ax = plt.subplots(1,figsize = (4.,2.7))\n",
    "\n",
    "#y=mc+c\n",
    "#0.15*20000 [0.01,0.15]\n",
    "\n",
    "ax.errorbar(AvTmonlife,np.divide(Avtaus,10**6),xerr = StdTmonlife,yerr = np.divide(Stdtaus,10**6),color = ClrsOrange[2],linestyle = '',marker = 'o',markersize = 4,capsize = 4)\n",
    "ax.plot([20,300],[0.0005*20,0.0005*300],linestyle = '--',color = 'black') #ClrsOrange[3])\n",
    "ax.set_xlabel(r'$\\langle T_{\\mathrm{life}}\\rangle [10^6\\Delta t]$',fontsize = 12)\n",
    "ax.set_ylabel(r\"$T_{\\mathrm{rel}}$ [$10^6\\Delta t$]\",fontsize = 12)\n",
    "\n",
    "text = r'$\\tau_{rel} = 5\\cdot 10^{-4}\\langle T_{\\mathrm{life}}\\rangle$'\n",
    "text = r'$T_{\\mathrm{rel}} \\propto \\langle T_{\\mathrm{life}}\\rangle$'\n",
    "ax.text(70,0.1,text,color = 'black',fontsize = 12)\n",
    "#---- log-log axis---#\n",
    "ax.set_yscale('log')\n",
    "ax.set_xscale('log')\n",
    "ax.set_xticks([25,50,60,100,200,300,400],['25','50','','100','200','','400'])\n",
    "ax.set_yticks([0.015,0.03,0.04,0.06,0.12],['0.015','0.03','','0.06','0.12'])\n",
    "#---- normal axis ----#\n",
    "#ax.set_xticks([100,200,300,400],['100','200','300','400'])\n",
    "#ax.set_yticks([0.05,0.1,0.15],['0.05','0.1','0.15'])\n",
    "\n",
    "fig.tight_layout()\n",
    "plotname = 'Master_tau_vs_Tlife.pdf'\n",
    "fig.savefig(plotsdir+plotname)\n",
    "\n",
    "LargestComp = np.divide(AvLargestComps,6330)\n",
    "#print(LargestComp-)\n",
    "norm = TwoSlopeNorm(vmin=85, vcenter=92.5,vmax=100)\n",
    "fig2,ax2 = plt.subplots(1,figsize = (4.5,2.6))\n",
    "for i in range(len(Avtaus)):\n",
    "    ax2.errorbar(AvTmonlife[i],np.divide(Avtaus[i],10**6),xerr = StdTmonlife[i],yerr = np.divide(Stdtaus[i],10**6),color =cmap0((LargestComp[i]-0.85)/(0.15)), linestyle = '',marker = 'o',markersize = 4,capsize = 4)\n",
    "    print(\"LC\",LargestComp[i])\n",
    "    print((LargestComp[i]-0.7)/(0.3))\n",
    "ax2.set_xlabel(r'$\\langle T_{\\mathrm{life}}\\rangle [10^6\\Delta t]$',fontsize = 12)\n",
    "ax2.set_ylabel(r\"$\\tau_{rel}$ [$10^6\\Delta t$]\",fontsize = 12)\n",
    "\n",
    "ax2.set_yscale('log')\n",
    "ax2.set_xscale('log')\n",
    "ax2.set_xticks([50,60,100,200,300,400],['50','','100','200','','400'])\n",
    "ax2.set_yticks([0.03,0.04,0.06,0.12],['0.03','','0.06','0.12'])\n",
    "fig2.show()\n",
    "fig2.colorbar(cm.ScalarMappable(norm=norm, cmap=cmap0),ax=ax2, label = '% in largest graph')\n",
    "fig2.tight_layout()\n",
    "\n",
    "#fig2.savefig(plotsdir+plotname2)"
   ]
  },
  {
   "cell_type": "code",
   "execution_count": null,
   "id": "218d9e02-c28d-41b2-978d-1325df93bc72",
   "metadata": {},
   "outputs": [],
   "source": []
  },
  {
   "cell_type": "code",
   "execution_count": null,
   "id": "59cb847f-bedd-4c15-9f72-88ab235caf59",
   "metadata": {},
   "outputs": [],
   "source": []
  },
  {
   "cell_type": "code",
   "execution_count": null,
   "id": "bd7fcfa5-e02f-4724-a4c4-dcfe5cb6ca67",
   "metadata": {},
   "outputs": [],
   "source": []
  }
 ],
 "metadata": {
  "kernelspec": {
   "display_name": "Python 3",
   "language": "python",
   "name": "python3"
  },
  "language_info": {
   "codemirror_mode": {
    "name": "ipython",
    "version": 3
   },
   "file_extension": ".py",
   "mimetype": "text/x-python",
   "name": "python",
   "nbconvert_exporter": "python",
   "pygments_lexer": "ipython3",
   "version": "3.8.5"
  }
 },
 "nbformat": 4,
 "nbformat_minor": 5
}
