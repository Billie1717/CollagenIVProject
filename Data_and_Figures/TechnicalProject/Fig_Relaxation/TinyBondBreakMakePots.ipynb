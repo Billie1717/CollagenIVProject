{
 "cells": [
  {
   "cell_type": "code",
   "execution_count": 3,
   "id": "ddf00bc8-147c-4107-bbf1-bf17960928a9",
   "metadata": {},
   "outputs": [],
   "source": [
    "import sys\n",
    "import pandas\n",
    "sys.path.append(\"..\")\n",
    "import numpy as np\n",
    "import matplotlib.pyplot as plt\n",
    "import warnings\n",
    "from numpy import random\n",
    "from numpy import diff\n",
    "import os\n",
    "warnings.filterwarnings('ignore')\n",
    "cmap = plt.get_cmap('twilight')\n",
    "clrs = ['#a6611a','#dfc27d','#80cdc1','#018571','steelblue','slateblue']\n",
    "datadir  = '/Users/billiemeadowcroft/Dropbox/PhDGithub/RemoteCollagenIV/Data_and_Figures/TechnicalProject/Fig_Relaxation/Data/'\n",
    "plotsdir  = '/Users/billiemeadowcroft/Dropbox/PhDGithub/RemoteCollagenIV/Data_and_Figures/TechnicalProject/Fig_Relaxation/Plots/'\n",
    "\n"
   ]
  },
  {
   "cell_type": "code",
   "execution_count": 4,
   "id": "218a52ef-c767-404a-8dda-0dc66e2664c0",
   "metadata": {},
   "outputs": [],
   "source": [
    "def makebond(Dmake,Pmake,r):\n",
    "    if r<Dmake:\n",
    "        Prob = Pmake\n",
    "    else:\n",
    "        Prob = 0\n",
    "    \n",
    "    return Prob\n",
    "\n",
    "def breakbond(Dbreak,Pbreak,r):\n",
    "    if r>Dbreak:\n",
    "        Prob = Pbreak\n",
    "    else:\n",
    "        Prob = 0\n",
    "    \n",
    "    return Prob"
   ]
  },
  {
   "cell_type": "code",
   "execution_count": 5,
   "id": "c557d33b-6d3c-4e58-b810-a10dbfbe44bb",
   "metadata": {},
   "outputs": [],
   "source": [
    "# Getting probabilities\n",
    "Pbreak = 0.001\n",
    "Pmake = 1.0\n",
    "Dmake = 1.3*0.5\n",
    "Dbreak = 2.*0.5\n",
    "\n",
    "r = np.linspace(0,1.6,100)\n",
    "PrBreak = []\n",
    "PrMake = []\n",
    "for i in range(len(r)):\n",
    "    PrBreak.append(breakbond(Dbreak,Pbreak,r[i]))\n",
    "    PrMake.append(makebond(Dmake,Pmake,r[i]))"
   ]
  },
  {
   "cell_type": "code",
   "execution_count": 6,
   "id": "21fd29b2-518f-429e-8852-f4f08d4f717c",
   "metadata": {},
   "outputs": [
    {
     "data": {
      "image/png": "[encoded data removed]",
      "text/plain": [
       "<Figure size 201.6x86.4 with 1 Axes>"
      ]
     },
     "metadata": {
      "needs_background": "light"
     },
     "output_type": "display_data"
    },
    {
     "data": {
      "image/png": "[encoded data removed]",
      "text/plain": [
       "<Figure size 201.6x86.4 with 1 Axes>"
      ]
     },
     "metadata": {
      "needs_background": "light"
     },
     "output_type": "display_data"
    }
   ],
   "source": [
    "# Plotting\n",
    "                  \n",
    "#fig,ax = plt.subplots(figsize = (3.,1.2))\n",
    "fig,ax = plt.subplots(figsize = (2.8,1.2))\n",
    "ax.plot(r,PrMake,color = '#41b6c4',linewidth = 3)\n",
    "#ax.set_yticks([0,Pmake],[0,r'$C^{\\mathrm{enzy}}_{\\mathrm{make}}$'],fontsize = 12)\n",
    "#ax.set_xticks([0,Dmake],[0,r'$D^{\\mathrm{enzy}}_{\\mathrm{make}}$'],fontsize = 12)\n",
    "ax.set_yticks([0,Pmake],[0,r''],fontsize = 12)\n",
    "ax.set_xticks([0,Dmake],[0,r'$D^{\\mathrm{enzy}}_{\\mathrm{make}}$'],fontsize = 12)\n",
    "ax.set_ylabel(r'$P^{\\mathrm{enzy}}_{\\mathrm{make}}$',fontsize = 12)\n",
    "#ax.set_xlabel('r',fontsize = 12)\n",
    "\n",
    "ax.set_ylim([-Pmake*0.2,Pmake*1.2])\n",
    "fig.tight_layout()\n",
    "plotname = 'TinyGraph_MakeProb.pdf'\n",
    "fig.savefig(plotsdir+plotname)\n",
    "\n",
    "#fig2,ax2 = plt.subplots(figsize = (3.,1.2))\n",
    "fig2,ax2 = plt.subplots(figsize = (2.8,1.2))\n",
    "ax2.plot(r,PrBreak,color ='#e31a1c',linewidth = 3)\n",
    "#ax2.set_yticks([0,Pbreak],[0,r'$C^{\\mathrm{enzy}}_{\\mathrm{break}}$'],fontsize = 12)\n",
    "#ax2.set_xticks([0,Dbreak],[0,r'$D^{\\mathrm{enzy}}_{\\mathrm{break}}$'],fontsize = 12)\n",
    "ax2.set_yticks([0,Pbreak],[0,r''],fontsize = 12)\n",
    "ax2.set_xticks([0,Dbreak],[0,r'$D^{\\mathrm{enzy}}_{\\mathrm{break}}$'],fontsize = 12)\n",
    "ax2.set_ylabel(r'$P^{\\mathrm{enzy}}_{\\mathrm{break}}$',fontsize = 12)\n",
    "#ax2.set_xlabel('r',fontsize = 12)\n",
    "ax2.set_ylim([-Pbreak*0.2,Pbreak*1.2])\n",
    "fig2.tight_layout()\n",
    "plotname2 = 'TinyGraph_BreakProb.pdf'\n",
    "fig2.savefig(plotsdir+plotname2)\n"
   ]
  },
  {
   "cell_type": "code",
   "execution_count": null,
   "id": "ab9f02d4-c7ec-4251-b040-e78cde5b5165",
   "metadata": {},
   "outputs": [],
   "source": []
  }
 ],
 "metadata": {
  "kernelspec": {
   "display_name": "Python 3",
   "language": "python",
   "name": "python3"
  },
  "language_info": {
   "codemirror_mode": {
    "name": "ipython",
    "version": 3
   },
   "file_extension": ".py",
   "mimetype": "text/x-python",
   "name": "python",
   "nbconvert_exporter": "python",
   "pygments_lexer": "ipython3",
   "version": "3.8.5"
  }
 },
 "nbformat": 4,
 "nbformat_minor": 5
}
